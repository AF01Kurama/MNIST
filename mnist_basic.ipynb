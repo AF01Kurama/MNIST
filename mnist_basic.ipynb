{
 "cells": [
  {
   "cell_type": "code",
   "execution_count": 1,
   "id": "b73fcd79",
   "metadata": {
    "_cell_guid": "b1076dfc-b9ad-4769-8c92-a6c4dae69d19",
    "_uuid": "8f2839f25d086af736a60e9eeb907d3b93b6e0e5",
    "execution": {
     "iopub.execute_input": "2024-10-14T21:16:45.831417Z",
     "iopub.status.busy": "2024-10-14T21:16:45.830817Z",
     "iopub.status.idle": "2024-10-14T21:16:46.807501Z",
     "shell.execute_reply": "2024-10-14T21:16:46.806250Z"
    },
    "papermill": {
     "duration": 0.986394,
     "end_time": "2024-10-14T21:16:46.810264",
     "exception": false,
     "start_time": "2024-10-14T21:16:45.823870",
     "status": "completed"
    },
    "tags": []
   },
   "outputs": [],
   "source": [
    "import numpy as np\n",
    "import pandas as pd\n",
    "from matplotlib import pyplot as plt"
   ]
  },
  {
   "cell_type": "code",
   "execution_count": 2,
   "id": "77b8f62e",
   "metadata": {
    "execution": {
     "iopub.execute_input": "2024-10-14T21:16:46.821636Z",
     "iopub.status.busy": "2024-10-14T21:16:46.820990Z",
     "iopub.status.idle": "2024-10-14T21:16:51.214327Z",
     "shell.execute_reply": "2024-10-14T21:16:51.212512Z"
    },
    "papermill": {
     "duration": 4.403252,
     "end_time": "2024-10-14T21:16:51.218290",
     "exception": false,
     "start_time": "2024-10-14T21:16:46.815038",
     "status": "completed"
    },
    "tags": []
   },
   "outputs": [],
   "source": [
    "data = pd.read_csv('/kaggle/input/digit-recognizer/train.csv')"
   ]
  },
  {
   "cell_type": "code",
   "execution_count": 3,
   "id": "068ee7c3",
   "metadata": {
    "execution": {
     "iopub.execute_input": "2024-10-14T21:16:51.229911Z",
     "iopub.status.busy": "2024-10-14T21:16:51.229479Z",
     "iopub.status.idle": "2024-10-14T21:16:51.261139Z",
     "shell.execute_reply": "2024-10-14T21:16:51.259842Z"
    },
    "papermill": {
     "duration": 0.040453,
     "end_time": "2024-10-14T21:16:51.263998",
     "exception": false,
     "start_time": "2024-10-14T21:16:51.223545",
     "status": "completed"
    },
    "tags": []
   },
   "outputs": [
    {
     "data": {
      "text/html": [
       "<div>\n",
       "<style scoped>\n",
       "    .dataframe tbody tr th:only-of-type {\n",
       "        vertical-align: middle;\n",
       "    }\n",
       "\n",
       "    .dataframe tbody tr th {\n",
       "        vertical-align: top;\n",
       "    }\n",
       "\n",
       "    .dataframe thead th {\n",
       "        text-align: right;\n",
       "    }\n",
       "</style>\n",
       "<table border=\"1\" class=\"dataframe\">\n",
       "  <thead>\n",
       "    <tr style=\"text-align: right;\">\n",
       "      <th></th>\n",
       "      <th>label</th>\n",
       "      <th>pixel0</th>\n",
       "      <th>pixel1</th>\n",
       "      <th>pixel2</th>\n",
       "      <th>pixel3</th>\n",
       "      <th>pixel4</th>\n",
       "      <th>pixel5</th>\n",
       "      <th>pixel6</th>\n",
       "      <th>pixel7</th>\n",
       "      <th>pixel8</th>\n",
       "      <th>...</th>\n",
       "      <th>pixel774</th>\n",
       "      <th>pixel775</th>\n",
       "      <th>pixel776</th>\n",
       "      <th>pixel777</th>\n",
       "      <th>pixel778</th>\n",
       "      <th>pixel779</th>\n",
       "      <th>pixel780</th>\n",
       "      <th>pixel781</th>\n",
       "      <th>pixel782</th>\n",
       "      <th>pixel783</th>\n",
       "    </tr>\n",
       "  </thead>\n",
       "  <tbody>\n",
       "    <tr>\n",
       "      <th>0</th>\n",
       "      <td>1</td>\n",
       "      <td>0</td>\n",
       "      <td>0</td>\n",
       "      <td>0</td>\n",
       "      <td>0</td>\n",
       "      <td>0</td>\n",
       "      <td>0</td>\n",
       "      <td>0</td>\n",
       "      <td>0</td>\n",
       "      <td>0</td>\n",
       "      <td>...</td>\n",
       "      <td>0</td>\n",
       "      <td>0</td>\n",
       "      <td>0</td>\n",
       "      <td>0</td>\n",
       "      <td>0</td>\n",
       "      <td>0</td>\n",
       "      <td>0</td>\n",
       "      <td>0</td>\n",
       "      <td>0</td>\n",
       "      <td>0</td>\n",
       "    </tr>\n",
       "    <tr>\n",
       "      <th>1</th>\n",
       "      <td>0</td>\n",
       "      <td>0</td>\n",
       "      <td>0</td>\n",
       "      <td>0</td>\n",
       "      <td>0</td>\n",
       "      <td>0</td>\n",
       "      <td>0</td>\n",
       "      <td>0</td>\n",
       "      <td>0</td>\n",
       "      <td>0</td>\n",
       "      <td>...</td>\n",
       "      <td>0</td>\n",
       "      <td>0</td>\n",
       "      <td>0</td>\n",
       "      <td>0</td>\n",
       "      <td>0</td>\n",
       "      <td>0</td>\n",
       "      <td>0</td>\n",
       "      <td>0</td>\n",
       "      <td>0</td>\n",
       "      <td>0</td>\n",
       "    </tr>\n",
       "    <tr>\n",
       "      <th>2</th>\n",
       "      <td>1</td>\n",
       "      <td>0</td>\n",
       "      <td>0</td>\n",
       "      <td>0</td>\n",
       "      <td>0</td>\n",
       "      <td>0</td>\n",
       "      <td>0</td>\n",
       "      <td>0</td>\n",
       "      <td>0</td>\n",
       "      <td>0</td>\n",
       "      <td>...</td>\n",
       "      <td>0</td>\n",
       "      <td>0</td>\n",
       "      <td>0</td>\n",
       "      <td>0</td>\n",
       "      <td>0</td>\n",
       "      <td>0</td>\n",
       "      <td>0</td>\n",
       "      <td>0</td>\n",
       "      <td>0</td>\n",
       "      <td>0</td>\n",
       "    </tr>\n",
       "    <tr>\n",
       "      <th>3</th>\n",
       "      <td>4</td>\n",
       "      <td>0</td>\n",
       "      <td>0</td>\n",
       "      <td>0</td>\n",
       "      <td>0</td>\n",
       "      <td>0</td>\n",
       "      <td>0</td>\n",
       "      <td>0</td>\n",
       "      <td>0</td>\n",
       "      <td>0</td>\n",
       "      <td>...</td>\n",
       "      <td>0</td>\n",
       "      <td>0</td>\n",
       "      <td>0</td>\n",
       "      <td>0</td>\n",
       "      <td>0</td>\n",
       "      <td>0</td>\n",
       "      <td>0</td>\n",
       "      <td>0</td>\n",
       "      <td>0</td>\n",
       "      <td>0</td>\n",
       "    </tr>\n",
       "    <tr>\n",
       "      <th>4</th>\n",
       "      <td>0</td>\n",
       "      <td>0</td>\n",
       "      <td>0</td>\n",
       "      <td>0</td>\n",
       "      <td>0</td>\n",
       "      <td>0</td>\n",
       "      <td>0</td>\n",
       "      <td>0</td>\n",
       "      <td>0</td>\n",
       "      <td>0</td>\n",
       "      <td>...</td>\n",
       "      <td>0</td>\n",
       "      <td>0</td>\n",
       "      <td>0</td>\n",
       "      <td>0</td>\n",
       "      <td>0</td>\n",
       "      <td>0</td>\n",
       "      <td>0</td>\n",
       "      <td>0</td>\n",
       "      <td>0</td>\n",
       "      <td>0</td>\n",
       "    </tr>\n",
       "  </tbody>\n",
       "</table>\n",
       "<p>5 rows × 785 columns</p>\n",
       "</div>"
      ],
      "text/plain": [
       "   label  pixel0  pixel1  pixel2  pixel3  pixel4  pixel5  pixel6  pixel7  \\\n",
       "0      1       0       0       0       0       0       0       0       0   \n",
       "1      0       0       0       0       0       0       0       0       0   \n",
       "2      1       0       0       0       0       0       0       0       0   \n",
       "3      4       0       0       0       0       0       0       0       0   \n",
       "4      0       0       0       0       0       0       0       0       0   \n",
       "\n",
       "   pixel8  ...  pixel774  pixel775  pixel776  pixel777  pixel778  pixel779  \\\n",
       "0       0  ...         0         0         0         0         0         0   \n",
       "1       0  ...         0         0         0         0         0         0   \n",
       "2       0  ...         0         0         0         0         0         0   \n",
       "3       0  ...         0         0         0         0         0         0   \n",
       "4       0  ...         0         0         0         0         0         0   \n",
       "\n",
       "   pixel780  pixel781  pixel782  pixel783  \n",
       "0         0         0         0         0  \n",
       "1         0         0         0         0  \n",
       "2         0         0         0         0  \n",
       "3         0         0         0         0  \n",
       "4         0         0         0         0  \n",
       "\n",
       "[5 rows x 785 columns]"
      ]
     },
     "execution_count": 3,
     "metadata": {},
     "output_type": "execute_result"
    }
   ],
   "source": [
    "data.head()"
   ]
  },
  {
   "cell_type": "code",
   "execution_count": 4,
   "id": "1b0130e6",
   "metadata": {
    "execution": {
     "iopub.execute_input": "2024-10-14T21:16:51.275748Z",
     "iopub.status.busy": "2024-10-14T21:16:51.275300Z",
     "iopub.status.idle": "2024-10-14T21:16:52.180452Z",
     "shell.execute_reply": "2024-10-14T21:16:52.179201Z"
    },
    "papermill": {
     "duration": 0.913998,
     "end_time": "2024-10-14T21:16:52.183018",
     "exception": false,
     "start_time": "2024-10-14T21:16:51.269020",
     "status": "completed"
    },
    "tags": []
   },
   "outputs": [
    {
     "data": {
      "text/plain": [
       "array([8, 3, 5, ..., 6, 7, 6])"
      ]
     },
     "execution_count": 4,
     "metadata": {},
     "output_type": "execute_result"
    }
   ],
   "source": [
    "data = np.array(data)\n",
    "m, n = data.shape\n",
    "np.random.shuffle(data) # shuffle before splitting into dev and training sets\n",
    "\n",
    "data_dev = data[0:1000].T\n",
    "Y_dev = data_dev[0]\n",
    "X_dev = data_dev[1:n]\n",
    "X_dev = X_dev / 255.\n",
    "\n",
    "data_train = data[1000:m].T\n",
    "Y_train = data_train[0]\n",
    "X_train = data_train[1:n]\n",
    "X_train = X_train / 255.\n",
    "Y_train"
   ]
  },
  {
   "cell_type": "code",
   "execution_count": 5,
   "id": "72470e2e",
   "metadata": {
    "execution": {
     "iopub.execute_input": "2024-10-14T21:16:52.194956Z",
     "iopub.status.busy": "2024-10-14T21:16:52.194543Z",
     "iopub.status.idle": "2024-10-14T21:16:52.209656Z",
     "shell.execute_reply": "2024-10-14T21:16:52.208415Z"
    },
    "papermill": {
     "duration": 0.024143,
     "end_time": "2024-10-14T21:16:52.212282",
     "exception": false,
     "start_time": "2024-10-14T21:16:52.188139",
     "status": "completed"
    },
    "tags": []
   },
   "outputs": [],
   "source": [
    "def init_params():\n",
    "    w1 = np.random.rand(10,784) - 0.5\n",
    "    b1 = np.random.rand(10,1) - 0.5\n",
    "    w2 = np.random.rand(10,10) - 0.5\n",
    "    b2 = np.random.rand(10,1) - 0.5\n",
    "    return w1,b1,w2,b2\n",
    "\n",
    "def ReLU(x):\n",
    "    return np.maximum(x,0)\n",
    "\n",
    "def softmax(Z):\n",
    "    A = np.exp(Z) / sum(np.exp(Z))\n",
    "    return A\n",
    "\n",
    "def forward_prop(x,w1,w2,b1,b2):\n",
    "    z1 = w1.dot(x) + b1\n",
    "    a1 = ReLU(z1)\n",
    "    z2 = w2.dot(a1) + b2\n",
    "    a2 = softmax(z2)\n",
    "    return a2,a1,z1,z2\n",
    "\n",
    "def onehot(x):\n",
    "    onehot_x = np.zeros((x.size, x.max() + 1))\n",
    "    onehot_x[np.arange(x.size),x] = 1\n",
    "    y = onehot_x.T\n",
    "    return y\n",
    "\n",
    "def deriv_ReLU(x):\n",
    "    return x > 0\n",
    "\n",
    "def back_prop(a2,a1,z1,z2,w2,x,y):\n",
    "    onehot_y = onehot(y)\n",
    "    dz2 = a2 - onehot_y\n",
    "    dw2 = 1/m * dz2.dot(a1.T)\n",
    "    db2 = 1/m * np.sum(dz2)\n",
    "    dz1 = w2.T.dot(dz2) * deriv_ReLU(z1)\n",
    "    dw1 = 1/m * dz1.dot(x.T)\n",
    "    db1 = 1/m * np.sum(dz1)\n",
    "    return db1,dw1,db2,dw2\n",
    "\n",
    "def update_params(w1,w2,b1,b2,db1,dw1,db2,dw2,alpha):\n",
    "    w1 = w1 - alpha*dw1\n",
    "    w2 = w2 - alpha*dw2\n",
    "    b1 = b1 - alpha*db1\n",
    "    b2 = b2 - alpha*db2\n",
    "    return w1,w2,b1,b2"
   ]
  },
  {
   "cell_type": "code",
   "execution_count": 6,
   "id": "4452a2c0",
   "metadata": {
    "execution": {
     "iopub.execute_input": "2024-10-14T21:16:52.224694Z",
     "iopub.status.busy": "2024-10-14T21:16:52.224235Z",
     "iopub.status.idle": "2024-10-14T21:16:52.234140Z",
     "shell.execute_reply": "2024-10-14T21:16:52.232976Z"
    },
    "papermill": {
     "duration": 0.019009,
     "end_time": "2024-10-14T21:16:52.236582",
     "exception": false,
     "start_time": "2024-10-14T21:16:52.217573",
     "status": "completed"
    },
    "tags": []
   },
   "outputs": [],
   "source": [
    "def get_predictions(x):\n",
    "    return np.argmax(x,0)\n",
    "\n",
    "def get_accuracy(predictions,y):\n",
    "    print(predictions,y)\n",
    "    return np.sum(predictions == y) / y.size\n",
    "\n",
    "def gradient_descent(x,y,iterations,alpha):\n",
    "    w1,b1,w2,b2 = init_params()\n",
    "    for i in range(iterations):\n",
    "        a2,a1,z1,z2 = forward_prop(x,w1,w2,b1,b2)\n",
    "        db1,dw1,db2,dw2 = back_prop(a2,a1,z1,z2,w2,x,y)\n",
    "        w1,w2,b1,b2 = update_params(w1,w2,b1,b2,db1,dw1,db2,dw2,alpha)\n",
    "        if i%50 == 0:\n",
    "            print(\"iteration: \",i)\n",
    "            predictions = get_predictions(a2)\n",
    "            print(get_accuracy(predictions,y))\n",
    "    return w1,w2,b1,b2"
   ]
  },
  {
   "cell_type": "code",
   "execution_count": 7,
   "id": "f3ed9088",
   "metadata": {
    "execution": {
     "iopub.execute_input": "2024-10-14T21:16:52.248689Z",
     "iopub.status.busy": "2024-10-14T21:16:52.248128Z",
     "iopub.status.idle": "2024-10-14T21:17:52.883439Z",
     "shell.execute_reply": "2024-10-14T21:17:52.881862Z"
    },
    "papermill": {
     "duration": 60.646854,
     "end_time": "2024-10-14T21:17:52.888462",
     "exception": false,
     "start_time": "2024-10-14T21:16:52.241608",
     "status": "completed"
    },
    "tags": []
   },
   "outputs": [
    {
     "name": "stdout",
     "output_type": "stream",
     "text": [
      "iteration:  0\n",
      "[4 9 4 ... 6 6 1] [8 3 5 ... 6 7 6]\n",
      "0.1015609756097561\n",
      "iteration:  50\n",
      "[8 5 3 ... 6 3 9] [8 3 5 ... 6 7 6]\n",
      "0.3747560975609756\n",
      "iteration:  100\n",
      "[8 5 3 ... 6 5 0] [8 3 5 ... 6 7 6]\n",
      "0.5930731707317073\n",
      "iteration:  150\n",
      "[8 5 3 ... 6 7 0] [8 3 5 ... 6 7 6]\n",
      "0.6800243902439025\n",
      "iteration:  200\n",
      "[8 3 3 ... 6 7 0] [8 3 5 ... 6 7 6]\n",
      "0.7404634146341463\n",
      "iteration:  250\n",
      "[8 3 5 ... 6 7 6] [8 3 5 ... 6 7 6]\n",
      "0.7803170731707317\n",
      "iteration:  300\n",
      "[8 3 5 ... 6 7 6] [8 3 5 ... 6 7 6]\n",
      "0.8077317073170732\n",
      "iteration:  350\n",
      "[8 3 5 ... 6 7 6] [8 3 5 ... 6 7 6]\n",
      "0.8260975609756097\n",
      "iteration:  400\n",
      "[8 3 5 ... 6 7 6] [8 3 5 ... 6 7 6]\n",
      "0.8394146341463414\n",
      "iteration:  450\n",
      "[8 3 5 ... 6 7 6] [8 3 5 ... 6 7 6]\n",
      "0.8490243902439024\n",
      "iteration:  500\n",
      "[8 3 5 ... 6 7 6] [8 3 5 ... 6 7 6]\n",
      "0.8561463414634146\n"
     ]
    }
   ],
   "source": [
    "w1,w2,b1,b2 = gradient_descent(X_train,Y_train,501,0.10)"
   ]
  },
  {
   "cell_type": "code",
   "execution_count": 8,
   "id": "226149ae",
   "metadata": {
    "execution": {
     "iopub.execute_input": "2024-10-14T21:17:52.916078Z",
     "iopub.status.busy": "2024-10-14T21:17:52.915125Z",
     "iopub.status.idle": "2024-10-14T21:17:52.933355Z",
     "shell.execute_reply": "2024-10-14T21:17:52.931553Z"
    },
    "papermill": {
     "duration": 0.037855,
     "end_time": "2024-10-14T21:17:52.938716",
     "exception": false,
     "start_time": "2024-10-14T21:17:52.900861",
     "status": "completed"
    },
    "tags": []
   },
   "outputs": [],
   "source": [
    "def make_predictions(x, w1, b1, w2, b2):\n",
    "    a2, _, _, _ = forward_prop(x,w1,w2,b1,b2)\n",
    "    predictions = get_predictions(a2)\n",
    "    return predictions\n",
    "\n",
    "def test_prediction(index, w1, b1, w2, b2):\n",
    "    current_image = X_train[:, index, None]\n",
    "    prediction = make_predictions(X_train[:, index, None], w1, b1, w2, b2)\n",
    "    label = Y_train[index]\n",
    "    print(\"Prediction: \", prediction)\n",
    "    print(\"Label: \", label)\n",
    "    \n",
    "    current_image = current_image.reshape((28, 28)) * 255\n",
    "    plt.gray()\n",
    "    plt.imshow(current_image, interpolation='nearest')\n",
    "    plt.show()"
   ]
  },
  {
   "cell_type": "code",
   "execution_count": 9,
   "id": "b06d8fbb",
   "metadata": {
    "execution": {
     "iopub.execute_input": "2024-10-14T21:17:52.965966Z",
     "iopub.status.busy": "2024-10-14T21:17:52.965065Z",
     "iopub.status.idle": "2024-10-14T21:17:53.199269Z",
     "shell.execute_reply": "2024-10-14T21:17:53.198041Z"
    },
    "papermill": {
     "duration": 0.251205,
     "end_time": "2024-10-14T21:17:53.201997",
     "exception": false,
     "start_time": "2024-10-14T21:17:52.950792",
     "status": "completed"
    },
    "tags": []
   },
   "outputs": [
    {
     "name": "stdout",
     "output_type": "stream",
     "text": [
      "Prediction:  [4]\n",
      "Label:  4\n"
     ]
    },
    {
     "data": {
      "image/png": "[encoded data removed]",
      "text/plain": [
       "<Figure size 640x480 with 1 Axes>"
      ]
     },
     "metadata": {},
     "output_type": "display_data"
    }
   ],
   "source": [
    "test_prediction(7, w1, b1, w2, b2)"
   ]
  },
  {
   "cell_type": "code",
   "execution_count": 10,
   "id": "23d21ac8",
   "metadata": {
    "execution": {
     "iopub.execute_input": "2024-10-14T21:17:53.217263Z",
     "iopub.status.busy": "2024-10-14T21:17:53.216794Z",
     "iopub.status.idle": "2024-10-14T21:17:53.246948Z",
     "shell.execute_reply": "2024-10-14T21:17:53.245472Z"
    },
    "papermill": {
     "duration": 0.04589,
     "end_time": "2024-10-14T21:17:53.254441",
     "exception": false,
     "start_time": "2024-10-14T21:17:53.208551",
     "status": "completed"
    },
    "tags": []
   },
   "outputs": [
    {
     "name": "stdout",
     "output_type": "stream",
     "text": [
      "[5 8 8 1 3 5 6 3 5 0 1 5 3 5 9 0 9 9 8 5 6 7 3 6 0 5 2 6 4 7 0 8 3 2 8 5 4\n",
      " 7 3 2 9 9 6 7 4 6 1 6 3 2 2 2 5 9 6 0 0 0 2 3 0 3 9 6 8 8 1 8 8 0 9 8 8 2\n",
      " 3 4 8 2 4 0 7 8 6 3 9 3 7 2 4 6 4 4 7 5 7 7 9 0 3 0 7 4 1 6 6 3 6 6 3 7 0\n",
      " 6 4 6 8 6 1 4 2 3 2 4 2 0 6 9 8 0 8 8 9 4 9 2 3 3 5 6 7 7 7 2 0 6 3 3 0 9\n",
      " 3 8 0 3 1 9 4 9 7 4 2 1 7 9 9 9 8 2 6 4 3 5 7 2 6 1 3 1 6 1 7 9 9 7 5 4 8\n",
      " 3 3 4 8 0 6 3 9 9 1 0 1 9 1 4 6 0 3 6 0 6 3 4 9 6 3 2 6 7 3 7 6 7 7 1 1 1\n",
      " 1 2 6 0 3 9 6 5 1 4 3 3 9 9 5 5 3 9 0 5 8 3 3 7 0 2 7 1 9 2 0 6 2 4 8 8 9\n",
      " 1 1 4 9 5 4 8 0 0 6 0 2 4 1 7 3 1 7 0 8 0 9 3 9 2 0 8 7 0 8 6 7 1 1 4 5 6\n",
      " 9 9 5 1 3 6 9 7 4 0 7 0 6 7 3 4 4 4 1 7 2 6 3 9 3 0 3 9 2 1 4 4 5 2 5 1 7\n",
      " 3 4 1 9 4 2 1 3 8 0 0 5 2 6 5 8 1 8 8 4 1 7 0 2 7 3 4 4 2 8 9 3 8 2 5 5 8\n",
      " 4 3 7 8 0 8 4 6 5 0 1 4 9 0 8 0 0 3 3 0 5 9 9 5 8 1 9 1 2 8 1 7 3 4 1 0 8\n",
      " 0 9 4 1 9 9 8 3 4 5 5 9 9 1 0 6 8 1 4 0 0 7 4 8 5 2 9 7 0 8 4 6 3 2 7 8 4\n",
      " 0 0 0 2 0 6 5 5 1 1 1 6 1 3 6 4 3 8 7 8 2 4 9 7 8 3 6 7 6 1 3 3 2 5 9 1 3\n",
      " 5 2 1 7 1 9 8 2 1 0 9 4 1 6 2 2 1 9 7 9 0 7 0 5 8 0 2 0 3 5 8 0 2 7 6 7 5\n",
      " 4 8 7 6 1 1 9 5 5 5 5 9 4 4 4 2 9 8 2 9 8 9 7 4 9 8 9 9 2 8 8 2 9 1 4 4 8\n",
      " 2 0 4 6 8 2 1 5 7 9 9 6 1 7 1 7 1 8 5 8 0 5 3 4 5 9 4 2 8 6 1 5 7 6 5 4 8\n",
      " 0 7 6 9 0 5 6 7 1 4 1 5 5 3 4 4 3 7 7 0 3 6 5 9 8 9 1 3 5 6 6 4 8 8 3 3 0\n",
      " 1 3 8 0 5 1 4 3 2 1 6 1 9 3 5 6 8 6 9 2 4 1 2 3 5 9 1 9 3 8 0 7 9 2 0 5 9\n",
      " 1 1 5 3 5 9 2 8 6 0 5 1 6 2 9 5 1 6 0 5 9 3 2 4 1 9 0 6 6 4 1 3 1 1 5 5 5\n",
      " 8 3 7 2 7 9 0 2 4 4 8 7 6 0 6 9 1 1 3 6 0 3 6 6 4 3 4 8 6 9 5 7 3 2 7 2 4\n",
      " 9 4 8 0 3 2 5 4 5 4 1 0 8 1 1 5 9 7 8 7 7 6 6 8 2 1 3 7 4 4 0 8 1 4 7 7 1\n",
      " 2 4 3 7 3 4 1 4 4 3 8 2 1 5 4 2 2 5 0 9 0 6 8 9 7 3 2 7 8 9 1 0 8 6 8 8 0\n",
      " 9 9 3 3 6 6 5 9 7 7 5 3 1 0 7 9 1 8 2 4 2 0 5 5 3 8 9 7 8 9 4 7 0 8 8 1 2\n",
      " 6 9 5 4 5 2 8 8 9 1 7 2 1 7 7 6 6 3 0 9 4 9 2 1 6 0 8 5 7 4 8 7 4 2 3 4 0\n",
      " 4 5 6 8 4 9 7 7 3 0 2 9 6 1 3 6 2 8 0 2 9 5 8 3 4 1 2 4 0 1 7 4 4 0 9 7 1\n",
      " 4 8 4 3 4 3 9 9 9 9 9 1 6 7 2 6 0 2 8 9 4 9 1 9 1 2 7 7 2 9 5 2 4 7 1 6 2\n",
      " 9 1 1 4 7 7 6 6 6 3 3 4 9 1 0 2 5 2 3 1 3 5 9 1 6 4 0 2 2 1 2 7 8 2 8 1 8\n",
      " 2] [5 8 8 1 3 5 6 9 5 0 1 6 3 5 4 0 9 4 8 5 6 7 2 6 0 5 2 6 4 7 0 8 3 2 8 5 4\n",
      " 7 5 2 4 9 2 7 4 6 6 6 3 2 5 2 5 9 2 0 0 0 2 3 0 3 9 6 8 8 1 8 8 0 9 8 8 2\n",
      " 3 4 0 2 9 0 7 8 6 3 9 3 7 2 4 6 4 4 7 5 7 9 9 0 3 0 9 4 1 6 6 3 6 6 3 7 0\n",
      " 6 4 6 8 6 1 4 2 3 2 9 2 0 6 9 8 0 8 8 4 4 7 2 3 5 5 6 7 7 7 6 0 6 7 2 0 2\n",
      " 3 8 0 3 3 9 4 9 7 4 2 9 9 9 9 9 8 0 6 9 3 5 7 2 6 1 3 1 0 1 7 9 8 7 0 4 8\n",
      " 3 3 4 8 0 6 3 9 9 1 0 1 9 1 7 6 0 8 6 0 6 3 4 4 6 8 2 6 7 9 9 6 7 7 1 7 1\n",
      " 1 2 6 0 3 9 2 5 1 4 3 3 9 9 3 5 3 9 0 9 8 3 3 7 0 2 7 1 9 2 0 6 2 4 8 8 9\n",
      " 1 1 4 9 5 4 8 9 9 6 0 8 9 1 7 3 1 7 0 8 0 9 3 9 7 0 8 7 0 6 6 7 1 1 4 5 6\n",
      " 9 9 6 1 3 6 9 7 4 0 7 0 6 7 8 4 4 4 1 7 2 6 3 9 3 0 3 9 3 2 4 4 3 2 5 1 7\n",
      " 3 4 5 9 4 3 9 3 8 0 0 5 2 6 5 8 1 8 8 4 2 7 0 2 7 3 4 2 2 8 9 8 8 2 5 5 8\n",
      " 4 3 7 3 6 8 4 6 5 0 1 4 9 0 8 0 0 3 3 0 5 9 9 5 8 1 9 1 2 8 1 7 3 4 1 2 8\n",
      " 0 8 2 1 9 9 8 3 4 5 8 9 9 1 0 6 8 1 4 0 0 7 9 8 5 2 9 7 0 8 4 6 3 2 7 8 9\n",
      " 0 0 0 2 0 6 5 5 1 1 1 6 1 3 6 4 3 8 2 8 2 4 9 7 8 3 6 4 6 1 5 5 2 3 9 1 8\n",
      " 5 2 1 7 1 9 8 2 1 0 9 4 1 6 2 2 9 9 7 4 0 2 0 5 8 0 2 0 9 5 3 0 6 7 6 7 5\n",
      " 5 8 7 6 1 2 9 5 6 5 5 4 4 9 4 2 9 8 2 9 8 9 7 4 9 8 9 9 4 5 8 2 9 1 4 4 8\n",
      " 2 0 2 5 8 2 1 5 7 9 2 6 1 7 1 7 1 8 5 8 0 5 3 4 6 9 2 2 0 6 1 5 7 6 5 4 8\n",
      " 0 7 6 9 0 5 6 7 1 4 1 5 5 3 4 5 3 7 7 0 2 6 5 9 8 9 8 9 5 6 6 4 2 8 3 3 0\n",
      " 1 8 8 0 5 1 4 8 2 1 6 1 9 3 5 6 8 2 9 2 4 1 2 8 5 9 1 9 3 8 0 7 9 2 0 5 9\n",
      " 5 1 5 3 5 7 2 8 6 0 5 1 6 7 7 5 1 6 0 3 5 5 5 4 1 9 8 6 6 4 1 3 1 1 5 5 5\n",
      " 8 3 7 2 7 9 0 3 7 4 8 7 6 0 6 0 1 1 3 2 0 3 6 2 4 3 4 8 6 5 3 7 3 1 3 2 4\n",
      " 9 4 8 0 3 2 7 4 7 4 1 0 2 1 1 5 9 7 8 7 7 6 6 8 2 1 3 7 4 4 0 8 2 4 7 7 1\n",
      " 2 4 3 7 3 4 6 4 4 8 8 2 8 8 4 2 2 5 0 9 0 6 5 9 7 3 2 7 8 4 1 0 8 6 8 3 0\n",
      " 9 9 3 8 6 6 5 9 2 2 5 3 8 0 9 9 1 8 2 4 2 8 5 6 3 1 9 7 8 9 2 7 0 8 8 1 2\n",
      " 6 9 5 4 5 2 8 8 9 1 7 2 1 7 7 6 6 3 0 9 9 9 1 1 6 0 8 5 7 4 8 7 4 5 3 5 0\n",
      " 4 5 2 8 4 9 7 7 3 0 2 7 2 1 3 6 2 8 6 2 9 5 8 3 4 1 2 4 0 1 7 4 2 0 9 7 1\n",
      " 4 8 4 3 4 3 9 9 9 9 9 1 6 7 2 6 0 2 8 9 2 9 1 9 1 2 7 9 2 9 5 2 4 9 1 6 2\n",
      " 9 1 1 8 7 7 6 6 6 3 3 9 9 1 0 2 5 2 3 8 3 5 9 1 5 4 6 8 2 1 6 7 1 2 9 1 8\n",
      " 2]\n"
     ]
    },
    {
     "data": {
      "text/plain": [
       "0.841"
      ]
     },
     "execution_count": 10,
     "metadata": {},
     "output_type": "execute_result"
    }
   ],
   "source": [
    "dev_predictions = make_predictions(X_dev, w1, b1, w2, b2)\n",
    "get_accuracy(dev_predictions, Y_dev)"
   ]
  }
 ],
 "metadata": {
  "kaggle": {
   "accelerator": "none",
   "dataSources": [
    {
     "databundleVersionId": 861823,
     "sourceId": 3004,
     "sourceType": "competition"
    }
   ],
   "dockerImageVersionId": 30786,
   "isGpuEnabled": false,
   "isInternetEnabled": false,
   "language": "python",
   "sourceType": "notebook"
  },
  "kernelspec": {
   "display_name": "Python 3",
   "language": "python",
   "name": "python3"
  },
  "language_info": {
   "codemirror_mode": {
    "name": "ipython",
    "version": 3
   },
   "file_extension": ".py",
   "mimetype": "text/x-python",
   "name": "python",
   "nbconvert_exporter": "python",
   "pygments_lexer": "ipython3",
   "version": "3.10.14"
  },
  "papermill": {
   "default_parameters": {},
   "duration": 71.192142,
   "end_time": "2024-10-14T21:17:53.898746",
   "environment_variables": {},
   "exception": null,
   "input_path": "__notebook__.ipynb",
   "output_path": "__notebook__.ipynb",
   "parameters": {},
   "start_time": "2024-10-14T21:16:42.706604",
   "version": "2.6.0"
  }
 },
 "nbformat": 4,
 "nbformat_minor": 5
}
